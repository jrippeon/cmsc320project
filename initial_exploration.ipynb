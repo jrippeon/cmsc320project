{
  "cells": [
    {
      "cell_type": "markdown",
      "metadata": {
        "id": "R3egNxjdh-GT"
      },
      "source": [
        "# **Initial Data Exploration - CMSC320 Project Milestone 2**\n",
        "\n",
        "Requirements are listed [here](https://acrobat.adobe.com/link/review?uri=urn%3Aaaid%3Ascds%3AUS%3A1a28f442-fc75-341a-990f-af6d7aec3950)."
      ]
    },
    {
      "cell_type": "markdown",
      "metadata": {
        "id": "PiL6rkUTdFiI"
      },
      "source": [
        "# Preprocessing\n",
        "\n",
        "The first thing we need to do is preprocess the data."
      ]
    },
    {
      "cell_type": "code",
      "execution_count": 1,
      "metadata": {
        "id": "LYcottfOdFiK"
      },
      "outputs": [],
      "source": [
        "import pandas as pd\n",
        "import seaborn as sns"
      ]
    },
    {
      "cell_type": "code",
      "execution_count": 2,
      "metadata": {
        "id": "Q0TF2xbfdFiL"
      },
      "outputs": [],
      "source": [
        "df= pd.read_csv(\"data/netflix-rotten-tomatoes-metacritic-imdb.csv\")"
      ]
    },
    {
      "cell_type": "code",
      "execution_count": null,
      "metadata": {
        "colab": {
          "base_uri": "https://localhost:8080/"
        },
        "id": "1YCPXrbOkFEb",
        "outputId": "d6b98bba-e12d-4026-ebcd-533a7645a9bf"
      },
      "outputs": [
        {
          "name": "stdout",
          "output_type": "stream",
          "text": [
            "Index(['Title', 'Genre', 'Tags', 'Languages', 'Series or Movie',\n",
            "       'Hidden Gem Score', 'Country Availability', 'Runtime', 'Director',\n",
            "       'Writer', 'Actors', 'View Rating', 'IMDb Score',\n",
            "       'Rotten Tomatoes Score', 'Metacritic Score', 'Awards Received',\n",
            "       'Awards Nominated For', 'Boxoffice', 'Release Date',\n",
            "       'Netflix Release Date', 'Production House', 'Netflix Link', 'IMDb Link',\n",
            "       'Summary', 'IMDb Votes', 'Image', 'Poster', 'TMDb Trailer',\n",
            "       'Trailer Site'],\n",
            "      dtype='object')\n"
          ]
        }
      ],
      "source": [
        "print(df.columns)"
      ]
    },
    {
      "cell_type": "markdown",
      "metadata": {
        "id": "q0hKElitdFiL"
      },
      "source": [
        "Here are the percentages of each column which are NaN.\n",
        "\n",
        "This could be an issue, many of these columns are probably basically unusable."
      ]
    },
    {
      "cell_type": "code",
      "execution_count": null,
      "metadata": {
        "colab": {
          "base_uri": "https://localhost:8080/"
        },
        "id": "GVxv2-JxdFiN",
        "outputId": "ca16b0f9-9117-4821-c3b2-f09813bca1f3"
      },
      "outputs": [
        {
          "data": {
            "text/plain": [
              "Title                    0.000000\n",
              "Genre                    0.110465\n",
              "Tags                     0.004328\n",
              "Languages                0.126227\n",
              "Series or Movie          0.000000\n",
              "Hidden Gem Score         0.135724\n",
              "Country Availability     0.001227\n",
              "Runtime                  0.000065\n",
              "Director                 0.304134\n",
              "Writer                   0.279716\n",
              "Actors                   0.124354\n",
              "View Rating              0.453747\n",
              "IMDb Score               0.135594\n",
              "Rotten Tomatoes Score    0.587726\n",
              "Metacritic Score         0.719897\n",
              "Awards Received          0.607558\n",
              "Awards Nominated For     0.505103\n",
              "Boxoffice                0.741150\n",
              "Release Date             0.136111\n",
              "Netflix Release Date     0.000000\n",
              "Production House         0.667377\n",
              "Netflix Link             0.000000\n",
              "IMDb Link                0.148773\n",
              "Summary                  0.000581\n",
              "IMDb Votes               0.135724\n",
              "Image                    0.000000\n",
              "Poster                   0.235013\n",
              "TMDb Trailer             0.535271\n",
              "Trailer Site             0.535271\n",
              "dtype: float64"
            ]
          },
          "execution_count": 25,
          "metadata": {},
          "output_type": "execute_result"
        }
      ],
      "source": [
        "df.isna().sum() / df.shape[0]"
      ]
    },
    {
      "cell_type": "markdown",
      "metadata": {
        "id": "EzsK52HidFiN"
      },
      "source": [
        "## Cleaning up tags\n",
        "\n",
        "Several of the columns (listed below) are comma-separated lists.\n",
        "\n",
        "We convert them to Python lists to be easier to parse.\n"
      ]
    },
    {
      "cell_type": "code",
      "execution_count": null,
      "metadata": {
        "id": "WJlTcXYrdFiN"
      },
      "outputs": [],
      "source": [
        "# Convert comma separated fields to lists\n",
        "cols_to_clean= ['Genre', 'Tags', 'Languages', 'Country Availability', 'Director', 'Writer', 'Actors', 'Production House']\n",
        "for col in cols_to_clean:\n",
        "  df[col]= df[col].dropna().map(lambda x: x.split(','))"
      ]
    },
    {
      "cell_type": "code",
      "execution_count": null,
      "metadata": {
        "colab": {
          "base_uri": "https://localhost:8080/"
        },
        "id": "8aacdqOBdFiP",
        "outputId": "fd958981-e28f-46ca-ec94-ed0bcd577c5b"
      },
      "outputs": [
        {
          "name": "stdout",
          "output_type": "stream",
          "text": [
            "0        [Comedy Programmes, Romantic TV Comedies, Horr...\n",
            "1        [Dramas, Comedies, Films Based on Books, British]\n",
            "2                                              [Thrillers]\n",
            "3          [TV Dramas, Romantic TV Dramas, Dutch TV Shows]\n",
            "4        [Social Issue Dramas, Teen Movies, Dramas, Com...\n",
            "                               ...                        \n",
            "15475    [TV Dramas, TV Programmes, TV Comedies, Romant...\n",
            "15476    [Animal Tales, Family Comedies, Family Adventu...\n",
            "15477    [TV Comedies, Kids TV, Animal Tales, TV Cartoo...\n",
            "15478    [TV Comedies, Kids TV, TV Cartoons, TV Program...\n",
            "15479    [TV Comedies, Kids TV, Animal Tales, TV Cartoo...\n",
            "Name: Tags, Length: 15480, dtype: object\n"
          ]
        }
      ],
      "source": [
        "print(df['Tags'])"
      ]
    },
    {
      "cell_type": "code",
      "execution_count": null,
      "metadata": {
        "colab": {
          "base_uri": "https://localhost:8080/"
        },
        "id": "QPIn8VmTdFiQ",
        "outputId": "aa87ab65-6c41-40fd-d0c9-eb84af73d21d"
      },
      "outputs": [
        {
          "data": {
            "text/plain": [
              "Dramas                          4558\n",
              "Comedies                        4168\n",
              "Action & Adventure              2094\n",
              "TV Dramas                       1207\n",
              "International Movies            1198\n",
              "                                ... \n",
              "Tamil-Language Films               1\n",
              "Wine & Beverage Appreciation       1\n",
              "Thriller Anime                     1\n",
              "Vampire Movies                     1\n",
              "Programas de TV y series           1\n",
              "Length: 1003, dtype: int64"
            ]
          },
          "execution_count": 65,
          "metadata": {},
          "output_type": "execute_result"
        }
      ],
      "source": [
        "# find all unique tags\n",
        "unique_tags= {}\n",
        "for x in df['Tags'].dropna():\n",
        "  for tag in x:\n",
        "    if tag in unique_tags:\n",
        "      unique_tags[tag] += 1\n",
        "    else:\n",
        "      unique_tags[tag]= 1\n",
        "\n",
        "tags= pd.Series(unique_tags).sort_values(ascending=False)\n",
        "tags\n",
        "# tags"
      ]
    },
    {
      "cell_type": "code",
      "execution_count": null,
      "metadata": {
        "id": "hw2kL_3PdFiR"
      },
      "outputs": [],
      "source": [
        "# find all unique tags\n",
        "uniques= {}\n",
        "tags= {}\n",
        "for col in ['Tags', 'Genre', 'Director', 'Actors']:\n",
        "  uniques[col]= {}\n",
        "  for x in df[col].dropna():\n",
        "    for tag in x:\n",
        "      if tag in uniques[col]:\n",
        "        uniques[col][tag] += 1\n",
        "      else:\n",
        "        uniques[col][tag]= 1\n",
        "\n",
        "  uniques[col]= pd.Series(uniques[col]).sort_values(ascending=False)"
      ]
    },
    {
      "cell_type": "markdown",
      "metadata": {
        "id": "U3RqyNSvdFiR"
      },
      "source": [
        "We can probably collapse the least popular tags into some kind of `Other`.\n",
        "\n",
        "There are around 1300 tags with fewer than 10 instances in the database, combining these into `Other` would be one of our more common tags, not sure if this is acceptable."
      ]
    },
    {
      "cell_type": "code",
      "execution_count": null,
      "metadata": {
        "colab": {
          "base_uri": "https://localhost:8080/"
        },
        "id": "gY93A09jdFiS",
        "outputId": "837570f1-50dc-4c9a-f84f-63cf00ecc812"
      },
      "outputs": [
        {
          "name": "stdout",
          "output_type": "stream",
          "text": [
            "1312\n",
            "344\n"
          ]
        }
      ],
      "source": [
        "print(uniques['Tags'][uniques['Tags'] < 10].sum())\n",
        "print(len(uniques['Tags'][uniques['Tags'] < 10]))"
      ]
    },
    {
      "cell_type": "markdown",
      "metadata": {
        "id": "40wQLu53iv0T"
      },
      "source": [
        "There are a lot of different tags, this data is super high-dimensional."
      ]
    },
    {
      "cell_type": "code",
      "execution_count": null,
      "metadata": {
        "colab": {
          "base_uri": "https://localhost:8080/"
        },
        "id": "2FXj1TyHilMr",
        "outputId": "b3864fff-0b9c-4e7f-e2c8-94b611658408"
      },
      "outputs": [
        {
          "data": {
            "text/plain": [
              "1003"
            ]
          },
          "execution_count": 68,
          "metadata": {},
          "output_type": "execute_result"
        }
      ],
      "source": [
        "len(uniques['Tags'])"
      ]
    },
    {
      "cell_type": "markdown",
      "metadata": {
        "id": "UbTJ4lphf6OQ"
      },
      "source": [
        "The `Genre` column seems less awful, we should be able to use this as is."
      ]
    },
    {
      "cell_type": "code",
      "execution_count": null,
      "metadata": {
        "colab": {
          "base_uri": "https://localhost:8080/"
        },
        "id": "UjHFMUOwdFiS",
        "outputId": "2044ff91-daf3-4ca6-9593-77835bc23de1"
      },
      "outputs": [
        {
          "data": {
            "text/plain": [
              "17"
            ]
          },
          "execution_count": 69,
          "metadata": {},
          "output_type": "execute_result"
        }
      ],
      "source": [
        "uniques['Genre'][uniques['Genre'] < 10].sum()"
      ]
    },
    {
      "cell_type": "markdown",
      "metadata": {
        "id": "2aYEecrAkXQu"
      },
      "source": [
        "## Cleaning Box Office Figures\n",
        "\n",
        "The `BoxOffice` column has dollar amounts formatted in a disgusting way.\n",
        "These will need to be parsed"
      ]
    },
    {
      "cell_type": "code",
      "execution_count": null,
      "metadata": {
        "id": "BOGU5nAXlU12"
      },
      "outputs": [],
      "source": [
        "import re\n",
        "dollar_re= re.compile(r'^\\$([0-9,.]+)$')\n",
        "\n",
        "def num_of_money(string):\n",
        "  '''\n",
        "  Converts a string with a dollar amount into a float\n",
        "  '''\n",
        "  matched= dollar_re.match(string)\n",
        "  if matched:\n",
        "    money= matched.group(1)\n",
        "    money= money.replace(',', '') # delete all the commas (there are commas for some reason?)\n",
        "    money= int(money)\n",
        "    return money"
      ]
    },
    {
      "cell_type": "code",
      "execution_count": null,
      "metadata": {
        "id": "aP0S4Svpn3iy"
      },
      "outputs": [],
      "source": [
        "df['Boxoffice']= df['Boxoffice'].dropna().apply(num_of_money)"
      ]
    },
    {
      "cell_type": "code",
      "execution_count": null,
      "metadata": {
        "colab": {
          "base_uri": "https://localhost:8080/"
        },
        "id": "Ei2N9rEsoL4a",
        "outputId": "43dfa69b-cb6d-443e-837e-c9a436890db6"
      },
      "outputs": [
        {
          "data": {
            "text/plain": [
              "0        2122065.0\n",
              "1          70632.0\n",
              "2          16263.0\n",
              "3              NaN\n",
              "4              NaN\n",
              "           ...    \n",
              "15475          NaN\n",
              "15476          NaN\n",
              "15477          NaN\n",
              "15478          NaN\n",
              "15479          NaN\n",
              "Name: Boxoffice, Length: 15480, dtype: float64"
            ]
          },
          "execution_count": 72,
          "metadata": {},
          "output_type": "execute_result"
        }
      ],
      "source": [
        "df['Boxoffice']"
      ]
    },
    {
      "cell_type": "markdown",
      "metadata": {
        "id": "jm4XxNNDg9Le"
      },
      "source": [
        "# Hypothesis Testing\n"
      ]
    },
    {
      "cell_type": "markdown",
      "metadata": {},
      "source": [
        "ANOVA TEST on the top 3 genre of movies"
      ]
    },
    {
      "cell_type": "markdown",
      "metadata": {
        "id": "uO-Fmz85jvZQ"
      },
      "source": [
        "##"
      ]
    },
    {
      "cell_type": "markdown",
      "metadata": {
        "id": "i8g5OCuFhNDx"
      },
      "source": [
        "# Other\n",
        "\n",
        "Some additional information for later use:\n",
        "[This](https://datascience.stackexchange.com/questions/85488/encoding-tags-for-random-forest) seems relevant.\n",
        "\n",
        "After that we will need to reduce the dimensionality, perhaps with [this](https://medium.com/codex/dimensionality-reduction-techniques-for-categorical-continuous-data-75d2bca53100)."
      ]
    }
  ],
  "metadata": {
    "colab": {
      "provenance": []
    },
    "kernelspec": {
      "display_name": "Python 3",
      "language": "python",
      "name": "python3"
    },
    "language_info": {
      "codemirror_mode": {
        "name": "ipython",
        "version": 3
      },
      "file_extension": ".py",
      "mimetype": "text/x-python",
      "name": "python",
      "nbconvert_exporter": "python",
      "pygments_lexer": "ipython3",
      "version": "3.12.4"
    }
  },
  "nbformat": 4,
  "nbformat_minor": 0
}
