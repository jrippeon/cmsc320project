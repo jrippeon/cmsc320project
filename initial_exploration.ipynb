{
  "cells": [
    {
      "cell_type": "markdown",
      "metadata": {
        "id": "R3egNxjdh-GT"
      },
      "source": [
        "# **Initial Data Exploration - CMSC320 Project Milestone 2**\n",
        "\n",
        "Requirements are listed [here](https://acrobat.adobe.com/link/review?uri=urn%3Aaaid%3Ascds%3AUS%3A1a28f442-fc75-341a-990f-af6d7aec3950)."
      ]
    },
    {
      "cell_type": "markdown",
      "metadata": {
        "id": "PiL6rkUTdFiI"
      },
      "source": [
        "# Preprocessing\n",
        "\n",
        "The first thing we need to do is preprocess the data."
      ]
    },
    {
      "cell_type": "code",
      "execution_count": 2,
      "metadata": {
        "id": "LYcottfOdFiK"
      },
      "outputs": [],
      "source": [
        "import pandas as pd\n",
        "import seaborn as sns"
      ]
    },
    {
      "cell_type": "code",
      "execution_count": 3,
      "metadata": {
        "id": "Q0TF2xbfdFiL"
      },
      "outputs": [],
      "source": [
        "df= pd.read_csv(\"data/netflix-rotten-tomatoes-metacritic-imdb.csv\")"
      ]
    },
    {
      "cell_type": "code",
      "execution_count": 4,
      "metadata": {
        "colab": {
          "base_uri": "https://localhost:8080/"
        },
        "id": "1YCPXrbOkFEb",
        "outputId": "d6b98bba-e12d-4026-ebcd-533a7645a9bf"
      },
      "outputs": [
        {
          "name": "stdout",
          "output_type": "stream",
          "text": [
            "Index(['Title', 'Genre', 'Tags', 'Languages', 'Series or Movie',\n",
            "       'Hidden Gem Score', 'Country Availability', 'Runtime', 'Director',\n",
            "       'Writer', 'Actors', 'View Rating', 'IMDb Score',\n",
            "       'Rotten Tomatoes Score', 'Metacritic Score', 'Awards Received',\n",
            "       'Awards Nominated For', 'Boxoffice', 'Release Date',\n",
            "       'Netflix Release Date', 'Production House', 'Netflix Link', 'IMDb Link',\n",
            "       'Summary', 'IMDb Votes', 'Image', 'Poster', 'TMDb Trailer',\n",
            "       'Trailer Site'],\n",
            "      dtype='object')\n"
          ]
        }
      ],
      "source": [
        "print(df.columns)"
      ]
    },
    {
      "cell_type": "markdown",
      "metadata": {
        "id": "q0hKElitdFiL"
      },
      "source": [
        "Here are the percentages of each column which are NaN.\n",
        "\n",
        "This could be an issue, many of these columns are probably basically unusable."
      ]
    },
    {
      "cell_type": "code",
      "execution_count": 5,
      "metadata": {
        "colab": {
          "base_uri": "https://localhost:8080/"
        },
        "id": "GVxv2-JxdFiN",
        "outputId": "ca16b0f9-9117-4821-c3b2-f09813bca1f3"
      },
      "outputs": [
        {
          "data": {
            "text/plain": [
              "Title                    0.000000\n",
              "Genre                    0.110465\n",
              "Tags                     0.004328\n",
              "Languages                0.126227\n",
              "Series or Movie          0.000000\n",
              "Hidden Gem Score         0.135724\n",
              "Country Availability     0.001227\n",
              "Runtime                  0.000065\n",
              "Director                 0.304134\n",
              "Writer                   0.279716\n",
              "Actors                   0.124354\n",
              "View Rating              0.453747\n",
              "IMDb Score               0.135594\n",
              "Rotten Tomatoes Score    0.587726\n",
              "Metacritic Score         0.719897\n",
              "Awards Received          0.607558\n",
              "Awards Nominated For     0.505103\n",
              "Boxoffice                0.741150\n",
              "Release Date             0.136111\n",
              "Netflix Release Date     0.000000\n",
              "Production House         0.667377\n",
              "Netflix Link             0.000000\n",
              "IMDb Link                0.148773\n",
              "Summary                  0.000581\n",
              "IMDb Votes               0.135724\n",
              "Image                    0.000000\n",
              "Poster                   0.235013\n",
              "TMDb Trailer             0.535271\n",
              "Trailer Site             0.535271\n",
              "dtype: float64"
            ]
          },
          "execution_count": 5,
          "metadata": {},
          "output_type": "execute_result"
        }
      ],
      "source": [
        "df.isna().sum() / df.shape[0]"
      ]
    },
    {
      "cell_type": "markdown",
      "metadata": {
        "id": "EzsK52HidFiN"
      },
      "source": [
        "## Cleaning up tags\n",
        "\n",
        "Several of the columns (listed below) are comma-separated lists.\n",
        "\n",
        "We convert them to Python lists to be easier to parse.\n"
      ]
    },
    {
      "cell_type": "code",
      "execution_count": 6,
      "metadata": {
        "id": "WJlTcXYrdFiN"
      },
      "outputs": [],
      "source": [
        "# Convert comma separated fields to lists\n",
        "cols_to_clean= ['Genre', 'Tags', 'Languages', 'Country Availability', 'Director', 'Writer', 'Actors', 'Production House']\n",
        "for col in cols_to_clean:\n",
        "  df[col]= df[col].dropna().map(lambda x: x.split(','))"
      ]
    },
    {
      "cell_type": "code",
      "execution_count": 8,
      "metadata": {
        "colab": {
          "base_uri": "https://localhost:8080/"
        },
        "id": "8aacdqOBdFiP",
        "outputId": "fd958981-e28f-46ca-ec94-ed0bcd577c5b"
      },
      "outputs": [
        {
          "name": "stdout",
          "output_type": "stream",
          "text": [
            "0        [Comedy Programmes, Romantic TV Comedies, Horr...\n",
            "1        [Dramas, Comedies, Films Based on Books, British]\n",
            "2                                              [Thrillers]\n",
            "3          [TV Dramas, Romantic TV Dramas, Dutch TV Shows]\n",
            "4        [Social Issue Dramas, Teen Movies, Dramas, Com...\n",
            "                               ...                        \n",
            "15475    [TV Dramas, TV Programmes, TV Comedies, Romant...\n",
            "15476    [Animal Tales, Family Comedies, Family Adventu...\n",
            "15477    [TV Comedies, Kids TV, Animal Tales, TV Cartoo...\n",
            "15478    [TV Comedies, Kids TV, TV Cartoons, TV Program...\n",
            "15479    [TV Comedies, Kids TV, Animal Tales, TV Cartoo...\n",
            "Name: Tags, Length: 15480, dtype: object\n"
          ]
        }
      ],
      "source": [
        "print(df['Tags'])"
      ]
    },
    {
      "cell_type": "code",
      "execution_count": 7,
      "metadata": {
        "colab": {
          "base_uri": "https://localhost:8080/"
        },
        "id": "QPIn8VmTdFiQ",
        "outputId": "aa87ab65-6c41-40fd-d0c9-eb84af73d21d"
      },
      "outputs": [
        {
          "data": {
            "text/plain": [
              "Dramas                      4558\n",
              "Comedies                    4168\n",
              "Action & Adventure          2094\n",
              "TV Dramas                   1207\n",
              "International Movies        1198\n",
              "                            ... \n",
              "Educación y orientación        1\n",
              "TV para niños                  1\n",
              "Historias de animales          1\n",
              "Dibujos animados               1\n",
              "Programas de TV y series       1\n",
              "Length: 1003, dtype: int64"
            ]
          },
          "execution_count": 7,
          "metadata": {},
          "output_type": "execute_result"
        }
      ],
      "source": [
        "# find all unique tags\n",
        "unique_tags= {}\n",
        "for x in df['Tags'].dropna():\n",
        "  for tag in x:\n",
        "    if tag in unique_tags:\n",
        "      unique_tags[tag] += 1\n",
        "    else:\n",
        "      unique_tags[tag]= 1\n",
        "\n",
        "tags= pd.Series(unique_tags).sort_values(ascending=False)\n",
        "tags\n",
        "# tags"
      ]
    },
    {
      "cell_type": "code",
      "execution_count": 8,
      "metadata": {
        "id": "hw2kL_3PdFiR"
      },
      "outputs": [],
      "source": [
        "# find all unique tags\n",
        "uniques= {}\n",
        "tags= {}\n",
        "for col in ['Tags', 'Genre', 'Director', 'Actors']:\n",
        "  uniques[col]= {}\n",
        "  for x in df[col].dropna():\n",
        "    for tag in x:\n",
        "      if tag in uniques[col]:\n",
        "        uniques[col][tag] += 1\n",
        "      else:\n",
        "        uniques[col][tag]= 1\n",
        "\n",
        "  uniques[col]= pd.Series(uniques[col]).sort_values(ascending=False)"
      ]
    },
    {
      "cell_type": "markdown",
      "metadata": {
        "id": "U3RqyNSvdFiR"
      },
      "source": [
        "We can probably collapse the least popular tags into some kind of `Other`.\n",
        "\n",
        "There are around 1300 tags with fewer than 10 instances in the database, combining these into `Other` would be one of our more common tags, not sure if this is acceptable."
      ]
    },
    {
      "cell_type": "code",
      "execution_count": 9,
      "metadata": {
        "colab": {
          "base_uri": "https://localhost:8080/"
        },
        "id": "gY93A09jdFiS",
        "outputId": "837570f1-50dc-4c9a-f84f-63cf00ecc812"
      },
      "outputs": [
        {
          "name": "stdout",
          "output_type": "stream",
          "text": [
            "1312\n",
            "344\n"
          ]
        }
      ],
      "source": [
        "print(uniques['Tags'][uniques['Tags'] < 10].sum())\n",
        "print(len(uniques['Tags'][uniques['Tags'] < 10]))"
      ]
    },
    {
      "cell_type": "markdown",
      "metadata": {
        "id": "40wQLu53iv0T"
      },
      "source": [
        "There are a lot of different tags, this data is super high-dimensional."
      ]
    },
    {
      "cell_type": "code",
      "execution_count": 10,
      "metadata": {
        "colab": {
          "base_uri": "https://localhost:8080/"
        },
        "id": "2FXj1TyHilMr",
        "outputId": "b3864fff-0b9c-4e7f-e2c8-94b611658408"
      },
      "outputs": [
        {
          "data": {
            "text/plain": [
              "1003"
            ]
          },
          "execution_count": 10,
          "metadata": {},
          "output_type": "execute_result"
        }
      ],
      "source": [
        "len(uniques['Tags'])"
      ]
    },
    {
      "cell_type": "markdown",
      "metadata": {
        "id": "UbTJ4lphf6OQ"
      },
      "source": [
        "The `Genre` column seems less awful, we should be able to use this as is."
      ]
    },
    {
      "cell_type": "code",
      "execution_count": 11,
      "metadata": {
        "colab": {
          "base_uri": "https://localhost:8080/"
        },
        "id": "UjHFMUOwdFiS",
        "outputId": "2044ff91-daf3-4ca6-9593-77835bc23de1"
      },
      "outputs": [
        {
          "data": {
            "text/plain": [
              "np.int64(17)"
            ]
          },
          "execution_count": 11,
          "metadata": {},
          "output_type": "execute_result"
        }
      ],
      "source": [
        "uniques['Genre'][uniques['Genre'] < 10].sum()"
      ]
    },
    {
      "cell_type": "markdown",
      "metadata": {
        "id": "2aYEecrAkXQu"
      },
      "source": [
        "## Cleaning Box Office Figures\n",
        "\n",
        "The `BoxOffice` column has dollar amounts formatted in a disgusting way.\n",
        "These will need to be parsed"
      ]
    },
    {
      "cell_type": "code",
      "execution_count": 13,
      "metadata": {
        "id": "BOGU5nAXlU12"
      },
      "outputs": [],
      "source": [
        "import re\n",
        "dollar_re= re.compile(r'^\\$([0-9,.]+)$')\n",
        "\n",
        "def num_of_money(string):\n",
        "  '''\n",
        "  Converts a string with a dollar amount into a float\n",
        "  '''\n",
        "  matched= dollar_re.match(string)\n",
        "  if matched:\n",
        "    money= matched.group(1)\n",
        "    money= money.replace(',', '') # delete all the commas (there are commas for some reason?)\n",
        "    money= int(money)\n",
        "    return money"
      ]
    },
    {
      "cell_type": "code",
      "execution_count": 14,
      "metadata": {
        "id": "aP0S4Svpn3iy"
      },
      "outputs": [],
      "source": [
        "df['Boxoffice']= df['Boxoffice'].dropna().apply(num_of_money)"
      ]
    },
    {
      "cell_type": "code",
      "execution_count": 15,
      "metadata": {
        "colab": {
          "base_uri": "https://localhost:8080/"
        },
        "id": "Ei2N9rEsoL4a",
        "outputId": "43dfa69b-cb6d-443e-837e-c9a436890db6"
      },
      "outputs": [
        {
          "data": {
            "text/plain": [
              "0        2122065.0\n",
              "1          70632.0\n",
              "2          16263.0\n",
              "3              NaN\n",
              "4              NaN\n",
              "           ...    \n",
              "15475          NaN\n",
              "15476          NaN\n",
              "15477          NaN\n",
              "15478          NaN\n",
              "15479          NaN\n",
              "Name: Boxoffice, Length: 15480, dtype: float64"
            ]
          },
          "execution_count": 15,
          "metadata": {},
          "output_type": "execute_result"
        }
      ],
      "source": [
        "df['Boxoffice']"
      ]
    },
    {
      "cell_type": "markdown",
      "metadata": {
        "id": "jm4XxNNDg9Le"
      },
      "source": [
        "# Hypothesis Testing\n"
      ]
    },
    {
      "cell_type": "markdown",
      "metadata": {},
      "source": [
        "1) Let's apply an ANOVA test on the IMDb Score of the 3 most popular types of movies to test if the genre affects it\n",
        "\n",
        "$H_0$: The genre of the movie does not affect the IMDb Score\n",
        "\n",
        "$H_a$: The genre of the movie affect the IMDb Score"
      ]
    },
    {
      "cell_type": "code",
      "execution_count": 16,
      "metadata": {},
      "outputs": [
        {
          "name": "stdout",
          "output_type": "stream",
          "text": [
            "Genre\n",
            "[Comedy]         1186\n",
            "[Drama]          1013\n",
            "[Documentary]     460\n",
            "Name: count, dtype: int64\n"
          ]
        }
      ],
      "source": [
        "# Getting the top 3 genre of movies\n",
        "popular_genre = df['Genre'].value_counts()\n",
        "print(popular_genre.head(3))"
      ]
    },
    {
      "cell_type": "markdown",
      "metadata": {},
      "source": [
        "The top 3 genre of movies are Comedy, Drama, and Documentary"
      ]
    },
    {
      "cell_type": "markdown",
      "metadata": {},
      "source": [
        "Let's apply an ANOVA test on these 3 genre of movies"
      ]
    },
    {
      "cell_type": "code",
      "execution_count": 23,
      "metadata": {},
      "outputs": [
        {
          "name": "stdout",
          "output_type": "stream",
          "text": [
            "P-Value:  3.2669512164418477e-59\n"
          ]
        }
      ],
      "source": [
        "from scipy.stats import f_oneway\n",
        "\n",
        "# Getting the IMDb Score of the 3 different genre of movies\n",
        "comedy_score = df[df['Genre'].apply(lambda genres: isinstance(genres, list) and genres == ['Comedy'])]['IMDb Score']\n",
        "drama_score = df[df['Genre'].apply(lambda genres: isinstance(genres, list) and genres == ['Drama'])]['IMDb Score']\n",
        "documentary_score = df[df['Genre'].apply(lambda genres: isinstance(genres, list) and genres == ['Documentary'])]['IMDb Score']\n",
        "\n",
        "# Applying ANOVA test\n",
        "f_statistic, p_value = f_oneway(comedy_score.dropna(), drama_score.dropna(), documentary_score.dropna())\n",
        "\n",
        "# Printing the p_value\n",
        "print(\"P-Value: \", p_value)"
      ]
    },
    {
      "cell_type": "markdown",
      "metadata": {},
      "source": [
        "In conclusion, because the p_value is less than the significance level of 0.05, we fail to reject the null hypothesis. As a result, the genre does not have any effect on the IMDb score of the movie. "
      ]
    },
    {
      "cell_type": "markdown",
      "metadata": {},
      "source": [
        "Let's generate a plot, illustrating this conclusion"
      ]
    },
    {
      "cell_type": "code",
      "execution_count": 29,
      "metadata": {},
      "outputs": [
        {
          "data": {
            "image/png": "[encoded data removed]",
            "text/plain": [
              "<Figure size 1000x600 with 1 Axes>"
            ]
          },
          "metadata": {},
          "output_type": "display_data"
        }
      ],
      "source": [
        "import matplotlib.pyplot as plt\n",
        "\n",
        "# Defining a dataframe for the display\n",
        "score_df = pd.DataFrame({\n",
        "    'Genre': ['Comedy'] * len(comedy_score) + ['Drama'] * len(drama_score) + ['Documentary'] * len(documentary_score),\n",
        "    'IMDb Score': list(comedy_score) + list(drama_score) + list(documentary_score)\n",
        "})\n",
        "\n",
        "# Plotting the data\n",
        "plt.figure(figsize=(10, 6))\n",
        "sns.barplot(x='Genre', y='IMDb Score', data=score_df, edgecolor='black')\n",
        "plt.title('Average IMDb Score by Genre')\n",
        "plt.xlabel('Genre')\n",
        "plt.ylabel('IMDb Score')\n",
        "plt.xticks(rotation=0)\n",
        "plt.grid(axis='y')\n",
        "\n",
        "# Displaying the plot\n",
        "plt.show()"
      ]
    },
    {
      "cell_type": "markdown",
      "metadata": {
        "id": "uO-Fmz85jvZQ"
      },
      "source": [
        "##"
      ]
    },
    {
      "cell_type": "markdown",
      "metadata": {
        "id": "i8g5OCuFhNDx"
      },
      "source": [
        "# Other\n",
        "\n",
        "Some additional information for later use:\n",
        "[This](https://datascience.stackexchange.com/questions/85488/encoding-tags-for-random-forest) seems relevant.\n",
        "\n",
        "After that we will need to reduce the dimensionality, perhaps with [this](https://medium.com/codex/dimensionality-reduction-techniques-for-categorical-continuous-data-75d2bca53100)."
      ]
    }
  ],
  "metadata": {
    "colab": {
      "provenance": []
    },
    "kernelspec": {
      "display_name": "Python 3",
      "language": "python",
      "name": "python3"
    },
    "language_info": {
      "codemirror_mode": {
        "name": "ipython",
        "version": 3
      },
      "file_extension": ".py",
      "mimetype": "text/x-python",
      "name": "python",
      "nbconvert_exporter": "python",
      "pygments_lexer": "ipython3",
      "version": "3.10.12"
    }
  },
  "nbformat": 4,
  "nbformat_minor": 0
}
