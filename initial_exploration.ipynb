{
 "cells": [
  {
   "cell_type": "markdown",
   "metadata": {},
   "source": [
    "# ====== Preprocessing ======="
   ]
  },
  {
   "cell_type": "code",
   "execution_count": 32,
   "metadata": {},
   "outputs": [],
   "source": [
    "import pandas as pd\n",
    "import seaborn as sns"
   ]
  },
  {
   "cell_type": "code",
   "execution_count": 19,
   "metadata": {},
   "outputs": [],
   "source": [
    "df= pd.read_csv(\"data/netflix-rotten-tomatoes-metacritic-imdb.csv\")"
   ]
  },
  {
   "cell_type": "markdown",
   "metadata": {},
   "source": [
    "Here are the percentages of each column which are NaN."
   ]
  },
  {
   "cell_type": "code",
   "execution_count": 20,
   "metadata": {},
   "outputs": [
    {
     "data": {
      "text/plain": [
       "Title                    0.000000\n",
       "Genre                    0.110465\n",
       "Tags                     0.004328\n",
       "Languages                0.126227\n",
       "Series or Movie          0.000000\n",
       "Hidden Gem Score         0.135724\n",
       "Country Availability     0.001227\n",
       "Runtime                  0.000065\n",
       "Director                 0.304134\n",
       "Writer                   0.279716\n",
       "Actors                   0.124354\n",
       "View Rating              0.453747\n",
       "IMDb Score               0.135594\n",
       "Rotten Tomatoes Score    0.587726\n",
       "Metacritic Score         0.719897\n",
       "Awards Received          0.607558\n",
       "Awards Nominated For     0.505103\n",
       "Boxoffice                0.741150\n",
       "Release Date             0.136111\n",
       "Netflix Release Date     0.000000\n",
       "Production House         0.667377\n",
       "Netflix Link             0.000000\n",
       "IMDb Link                0.148773\n",
       "Summary                  0.000581\n",
       "IMDb Votes               0.135724\n",
       "Image                    0.000000\n",
       "Poster                   0.235013\n",
       "TMDb Trailer             0.535271\n",
       "Trailer Site             0.535271\n",
       "dtype: float64"
      ]
     },
     "execution_count": 20,
     "metadata": {},
     "output_type": "execute_result"
    }
   ],
   "source": [
    "df.isna().sum() / df.shape[0]"
   ]
  },
  {
   "cell_type": "markdown",
   "metadata": {},
   "source": [
    "### Cleaning up tags\n",
    "\n",
    "We need to convert the comma separated fields to something more suitable.\n",
    "\n",
    "[This](https://datascience.stackexchange.com/questions/85488/encoding-tags-for-random-forest) seems relevant.\n",
    "\n",
    "After that we will need to reduce the dimensionality, perhaps with [this](https://medium.com/codex/dimensionality-reduction-techniques-for-categorical-continuous-data-75d2bca53100)."
   ]
  },
  {
   "cell_type": "code",
   "execution_count": 21,
   "metadata": {},
   "outputs": [],
   "source": [
    "# Convert comma separated fields to lists\n",
    "cols_to_clean= ['Genre', 'Tags', 'Languages', 'Country Availability', 'Director', 'Writer', 'Actors', 'Production House']\n",
    "for col in cols_to_clean:\n",
    "  df[col]= df[col].dropna().map(lambda x: x.split(','))"
   ]
  },
  {
   "cell_type": "code",
   "execution_count": 22,
   "metadata": {},
   "outputs": [
    {
     "name": "stdout",
     "output_type": "stream",
     "text": [
      "0        [Comedy Programmes, Romantic TV Comedies, Horr...\n",
      "1        [Dramas, Comedies, Films Based on Books, British]\n",
      "2                                              [Thrillers]\n",
      "3          [TV Dramas, Romantic TV Dramas, Dutch TV Shows]\n",
      "4        [Social Issue Dramas, Teen Movies, Dramas, Com...\n",
      "                               ...                        \n",
      "15475    [TV Dramas, TV Programmes, TV Comedies, Romant...\n",
      "15476    [Animal Tales, Family Comedies, Family Adventu...\n",
      "15477    [TV Comedies, Kids TV, Animal Tales, TV Cartoo...\n",
      "15478    [TV Comedies, Kids TV, TV Cartoons, TV Program...\n",
      "15479    [TV Comedies, Kids TV, Animal Tales, TV Cartoo...\n",
      "Name: Tags, Length: 15480, dtype: object\n"
     ]
    }
   ],
   "source": [
    "print(df['Tags'])"
   ]
  },
  {
   "cell_type": "code",
   "execution_count": 31,
   "metadata": {},
   "outputs": [
    {
     "data": {
      "text/plain": [
       "Dramas                      4558\n",
       "Comedies                    4168\n",
       "Action & Adventure          2094\n",
       "TV Dramas                   1207\n",
       "International Movies        1198\n",
       "                            ... \n",
       "Educación y orientación        1\n",
       "TV para niños                  1\n",
       "Historias de animales          1\n",
       "Dibujos animados               1\n",
       "Programas de TV y series       1\n",
       "Length: 1003, dtype: int64"
      ]
     },
     "execution_count": 31,
     "metadata": {},
     "output_type": "execute_result"
    }
   ],
   "source": [
    "# find all unique tags\n",
    "unique_tags= {}\n",
    "for x in df['Tags'].dropna():\n",
    "  for tag in x:\n",
    "    if tag in unique_tags:\n",
    "      unique_tags[tag] += 1\n",
    "    else:\n",
    "      unique_tags[tag]= 1\n",
    "\n",
    "tags= pd.Series(unique_tags).sort_values(ascending=False)\n",
    "tags\n",
    "# tags"
   ]
  },
  {
   "cell_type": "code",
   "execution_count": 46,
   "metadata": {},
   "outputs": [
    {
     "data": {
      "text/plain": [
       "{'Tags': Dramas                      4558\n",
       " Comedies                    4168\n",
       " Action & Adventure          2094\n",
       " TV Dramas                   1207\n",
       " International Movies        1198\n",
       "                             ... \n",
       " Educación y orientación        1\n",
       " TV para niños                  1\n",
       " Historias de animales          1\n",
       " Dibujos animados               1\n",
       " Programas de TV y series       1\n",
       " Length: 1003, dtype: int64,\n",
       " 'Genre':  Drama          3792\n",
       " Comedy          3407\n",
       "  Thriller       2634\n",
       " Drama           2567\n",
       "  Romance        2338\n",
       " Action          2182\n",
       "  Comedy         1670\n",
       " Animation       1649\n",
       "  Fantasy        1529\n",
       "  Adventure      1380\n",
       "  Family         1316\n",
       "  Crime          1216\n",
       "  Sci-Fi         1183\n",
       "  Mystery        1122\n",
       " Documentary     1028\n",
       " Crime            716\n",
       "  Horror          696\n",
       "  Action          628\n",
       "  History         515\n",
       " Biography        433\n",
       " Adventure        429\n",
       "  Music           398\n",
       " Horror           374\n",
       "  Sport           357\n",
       "  War             328\n",
       " Short            234\n",
       "  Musical         208\n",
       "  Biography       203\n",
       "  Short           188\n",
       " Reality-TV       119\n",
       " Family           117\n",
       " Romance          107\n",
       " Thriller         105\n",
       "  Western         100\n",
       "  Reality-TV       72\n",
       " Mystery           68\n",
       " Fantasy           65\n",
       " Game-Show         40\n",
       " Music             28\n",
       " Sci-Fi            21\n",
       " Musical           20\n",
       "  News             18\n",
       "  Animation        16\n",
       "  Talk-Show        16\n",
       " Adult             15\n",
       " History           12\n",
       "  Game-Show        12\n",
       " Talk-Show         10\n",
       " Sport             10\n",
       " Western            9\n",
       " War                2\n",
       "  Documentary       2\n",
       " News               2\n",
       "  Film-Noir         1\n",
       " Film-Noir          1\n",
       " dtype: int64,\n",
       " 'Director': Steven Spielberg    28\n",
       " Jing Wong           21\n",
       " Raúl Campos         19\n",
       "  Jan Suter          19\n",
       " Johnnie To          18\n",
       "                     ..\n",
       " Phil Roman           1\n",
       " Mark Tonderai        1\n",
       " Dylan C. Brown       1\n",
       " Teresa Suarez        1\n",
       "  Mike McCoy          1\n",
       " Length: 7478, dtype: int64,\n",
       " 'Actors':  Jackie Chan          38\n",
       "  Robert De Niro       36\n",
       " Liam Neeson           32\n",
       "  Mark Wahlberg        32\n",
       "  Ewan McGregor        32\n",
       "                       ..\n",
       "  Christopher Judge     1\n",
       " Michael Shanks         1\n",
       "  Chelsea Peretti       1\n",
       "  John Howard Swain     1\n",
       "  Brendon Walsh         1\n",
       " Length: 31148, dtype: int64}"
      ]
     },
     "execution_count": 46,
     "metadata": {},
     "output_type": "execute_result"
    }
   ],
   "source": [
    "# find all unique tags\n",
    "uniques= {}\n",
    "tags= {}\n",
    "for col in ['Tags', 'Genre', 'Director', 'Actors']:\n",
    "  uniques[col]= {}\n",
    "  for x in df[col].dropna():\n",
    "    for tag in x:\n",
    "      if tag in uniques[col]:\n",
    "        uniques[col][tag] += 1\n",
    "      else:\n",
    "        uniques[col][tag]= 1\n",
    "\n",
    "  uniques[col]= pd.Series(uniques[col]).sort_values(ascending=False)\n",
    "uniques"
   ]
  },
  {
   "cell_type": "markdown",
   "metadata": {},
   "source": [
    "We can probably collapse the least popular tags into some kind of `Other`.\n",
    "\n",
    "There are around 1300 tags with fewer than 10 instances in the database, combining these into `Other` would be one of our more common tags, not sure if this is acceptable."
   ]
  },
  {
   "cell_type": "code",
   "execution_count": 50,
   "metadata": {},
   "outputs": [],
   "source": [
    "unique_tags= uniques['Tags']\n",
    "unique_genres= uniques['Genre']"
   ]
  },
  {
   "cell_type": "code",
   "execution_count": 47,
   "metadata": {},
   "outputs": [
    {
     "data": {
      "text/plain": [
       "np.int64(1312)"
      ]
     },
     "execution_count": 47,
     "metadata": {},
     "output_type": "execute_result"
    }
   ],
   "source": [
    "uniques['Tags'][uniques['Tags'] < 10].sum()"
   ]
  },
  {
   "cell_type": "code",
   "execution_count": 49,
   "metadata": {},
   "outputs": [
    {
     "data": {
      "text/plain": [
       "np.int64(17)"
      ]
     },
     "execution_count": 49,
     "metadata": {},
     "output_type": "execute_result"
    }
   ],
   "source": [
    "uniques['Genre'][uniques['Genre'] < 10].sum()"
   ]
  }
 ],
 "metadata": {
  "kernelspec": {
   "display_name": "Python 3",
   "language": "python",
   "name": "python3"
  },
  "language_info": {
   "codemirror_mode": {
    "name": "ipython",
    "version": 3
   },
   "file_extension": ".py",
   "mimetype": "text/x-python",
   "name": "python",
   "nbconvert_exporter": "python",
   "pygments_lexer": "ipython3",
   "version": "3.12.4"
  }
 },
 "nbformat": 4,
 "nbformat_minor": 2
}
